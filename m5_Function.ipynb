{
 "cells": [
  {
   "cell_type": "markdown",
   "id": "69f8715d",
   "metadata": {},
   "source": [
    "**Function**\n",
    "* This something we have been indirectly using since the first module.\n",
    "* print( ) and input( ) are some functions that you’ve already used. And these are inbuilt functions. \n",
    "*b If you want, you can even create your own function to get some desired output."
   ]
  },
  {
   "cell_type": "code",
   "execution_count": 1,
   "id": "c55731bc",
   "metadata": {},
   "outputs": [],
   "source": [
    "# print (\"hello world\")\n",
    "# input (\"enter your age\")"
   ]
  },
  {
   "cell_type": "code",
   "execution_count": 2,
   "id": "9dc3c2bb",
   "metadata": {},
   "outputs": [
    {
     "name": "stdout",
     "output_type": "stream",
     "text": [
      "[0, 2, 4, 5, 6]\n"
     ]
    }
   ],
   "source": [
    "x = [0,2,4,5,6]\n",
    "print(x)"
   ]
  },
  {
   "cell_type": "code",
   "execution_count": 3,
   "id": "ec42839a",
   "metadata": {},
   "outputs": [
    {
     "name": "stdout",
     "output_type": "stream",
     "text": [
      "6\n",
      "0\n"
     ]
    }
   ],
   "source": [
    "print(max(x))\n",
    "print(min(x))"
   ]
  },
  {
   "cell_type": "code",
   "execution_count": 4,
   "id": "455b67aa",
   "metadata": {},
   "outputs": [
    {
     "data": {
      "text/plain": [
       "1.7"
      ]
     },
     "execution_count": 4,
     "metadata": {},
     "output_type": "execute_result"
    }
   ],
   "source": [
    "round(1.68,1)"
   ]
  },
  {
   "cell_type": "code",
   "execution_count": 5,
   "id": "f4f9c50c",
   "metadata": {},
   "outputs": [
    {
     "data": {
      "text/plain": [
       "2"
      ]
     },
     "execution_count": 5,
     "metadata": {},
     "output_type": "execute_result"
    }
   ],
   "source": [
    "round(1.68)"
   ]
  },
  {
   "cell_type": "code",
   "execution_count": 6,
   "id": "e243d832",
   "metadata": {},
   "outputs": [
    {
     "data": {
      "text/plain": [
       "[6, 5, 4, 2, 0]"
      ]
     },
     "execution_count": 6,
     "metadata": {},
     "output_type": "execute_result"
    }
   ],
   "source": [
    "sorted(x, reverse=True)"
   ]
  },
  {
   "cell_type": "code",
   "execution_count": 7,
   "id": "5022553e",
   "metadata": {},
   "outputs": [
    {
     "data": {
      "text/plain": [
       "17"
      ]
     },
     "execution_count": 7,
     "metadata": {},
     "output_type": "execute_result"
    }
   ],
   "source": [
    "sum(x)"
   ]
  },
  {
   "cell_type": "markdown",
   "id": "c9f52780",
   "metadata": {},
   "source": [
    "**Define Functions**"
   ]
  },
  {
   "cell_type": "markdown",
   "id": "c00940fa",
   "metadata": {},
   "source": [
    "In Python a function is defined using the `def` keyword."
   ]
  },
  {
   "cell_type": "code",
   "execution_count": 8,
   "id": "5845b0a5",
   "metadata": {},
   "outputs": [],
   "source": [
    "#Function_______?\n",
    "\n",
    "def molecules(): # function body__\n",
    "    print(\"its DNA:\" + \"AGCT\")\n",
    "    print(\"its RNA:\" + \"AUCG\")\n",
    "    print(\"its Amino acid:\" + \"XYZ\")"
   ]
  },
  {
   "cell_type": "code",
   "execution_count": 10,
   "id": "b3183bc6",
   "metadata": {},
   "outputs": [
    {
     "name": "stdout",
     "output_type": "stream",
     "text": [
      "its DNA:AGCT\n",
      "its RNA:AUCG\n",
      "its Amino acid:XYZ\n"
     ]
    }
   ],
   "source": [
    "molecules()"
   ]
  },
  {
   "cell_type": "code",
   "execution_count": 11,
   "id": "3b9d1dbc",
   "metadata": {},
   "outputs": [
    {
     "name": "stdout",
     "output_type": "stream",
     "text": [
      "12\n"
     ]
    }
   ],
   "source": [
    "def fun(x):\n",
    "    return 2*x\n",
    "a = fun(6)\n",
    "print(a)"
   ]
  },
  {
   "cell_type": "code",
   "execution_count": 12,
   "id": "78335091",
   "metadata": {},
   "outputs": [
    {
     "name": "stdout",
     "output_type": "stream",
     "text": [
      "8\n"
     ]
    }
   ],
   "source": [
    "b = fun(4)\n",
    "print(b)"
   ]
  },
  {
   "cell_type": "code",
   "execution_count": 13,
   "id": "7961b6e8",
   "metadata": {},
   "outputs": [
    {
     "name": "stdout",
     "output_type": "stream",
     "text": [
      "20\n"
     ]
    }
   ],
   "source": [
    "c = fun(10)\n",
    "print(c)"
   ]
  },
  {
   "cell_type": "code",
   "execution_count": 14,
   "id": "2ec49d08",
   "metadata": {},
   "outputs": [
    {
     "name": "stdout",
     "output_type": "stream",
     "text": [
      "30\n"
     ]
    }
   ],
   "source": [
    "def fun1(x,y):\n",
    "    return(x*y)\n",
    "a = fun1(5,6)\n",
    "print(a)"
   ]
  },
  {
   "cell_type": "code",
   "execution_count": 15,
   "id": "6588ec08",
   "metadata": {},
   "outputs": [
    {
     "name": "stdout",
     "output_type": "stream",
     "text": [
      "5\n",
      "still in the fucntion\n",
      "15\n"
     ]
    }
   ],
   "source": [
    "def fun2(x):\n",
    "    print(x)\n",
    "    print(\"still in the fucntion\")\n",
    "    return(3*x)\n",
    "f = fun2(5)\n",
    "print(f)"
   ]
  },
  {
   "cell_type": "code",
   "execution_count": 16,
   "id": "bd2958e1",
   "metadata": {},
   "outputs": [
    {
     "name": "stdout",
     "output_type": "stream",
     "text": [
      "4\n",
      "weeeeeeeee\n"
     ]
    }
   ],
   "source": [
    "def fun3(aurg):\n",
    "    print(aurg)\n",
    "    print(\"weeeeeeeee\")\n",
    "fun3(4)"
   ]
  }
 ],
 "metadata": {
  "kernelspec": {
   "display_name": "Python 3 (ipykernel)",
   "language": "python",
   "name": "python3"
  },
  "language_info": {
   "codemirror_mode": {
    "name": "ipython",
    "version": 3
   },
   "file_extension": ".py",
   "mimetype": "text/x-python",
   "name": "python",
   "nbconvert_exporter": "python",
   "pygments_lexer": "ipython3",
   "version": "3.9.7"
  }
 },
 "nbformat": 4,
 "nbformat_minor": 5
}
