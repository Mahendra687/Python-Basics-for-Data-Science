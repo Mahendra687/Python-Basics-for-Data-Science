{
 "cells": [
  {
   "cell_type": "markdown",
   "id": "3b702d61",
   "metadata": {},
   "source": [
    "**List in Python**\n",
    "* As the name suggests, List is an ordered sequence of data.\n",
    "* List provides kind of flexibility in Python, It can hold different types of data types.\n",
    "* Declaring a List is fairly straightforward. You use square bracket [] and separate the items by a comma. Let me write an example:"
   ]
  },
  {
   "cell_type": "code",
   "execution_count": 26,
   "id": "ad499509",
   "metadata": {},
   "outputs": [],
   "source": [
    "from pandas import*"
   ]
  },
  {
   "cell_type": "code",
   "execution_count": 1,
   "id": "87f1df60",
   "metadata": {},
   "outputs": [
    {
     "name": "stdout",
     "output_type": "stream",
     "text": [
      "['DNA', 'RNA', 'Protein', 3.14, 488519644000, 'Vitamins']\n"
     ]
    }
   ],
   "source": [
    "Molecules = [\"DNA\", \"RNA\", \"Protein\", 3.14, 488519644000, \"Vitamins\"]\n",
    "print(Molecules)"
   ]
  },
  {
   "cell_type": "markdown",
   "id": "e233c4d4",
   "metadata": {},
   "source": [
    "* Lists are `mutable` Say if you want to change some item on a `List`, you can do that. For example, if I like to replace DNA with it nucleotides codes ‘AGTC’, I can do it"
   ]
  },
  {
   "cell_type": "code",
   "execution_count": 3,
   "id": "72bb60a9",
   "metadata": {},
   "outputs": [
    {
     "name": "stdout",
     "output_type": "stream",
     "text": [
      "['AGTC', 'RNA', 'Protein', 3.14, 488519644000, 'Vitamins']\n"
     ]
    }
   ],
   "source": [
    "Molecules[0] = \"AGTC\"\n",
    "print(Molecules)"
   ]
  },
  {
   "cell_type": "markdown",
   "id": "14d21c57",
   "metadata": {},
   "source": [
    "**Some essential features of Python lists are:**\n",
    "* Collection of `values`\n",
    "* Can be of any `data type`\n",
    "* Can be a combination of different data types"
   ]
  },
  {
   "cell_type": "markdown",
   "id": "87762c9e",
   "metadata": {},
   "source": [
    "**Methods in List:**"
   ]
  },
  {
   "cell_type": "markdown",
   "id": "5f3540e9",
   "metadata": {},
   "source": [
    "1 **.append()**:\n",
    "In Python, you can add values to the end of a list using the .append() method."
   ]
  },
  {
   "cell_type": "code",
   "execution_count": 9,
   "id": "66f8bc91",
   "metadata": {},
   "outputs": [
    {
     "data": {
      "text/plain": [
       "['DNA', 'RNA']"
      ]
     },
     "execution_count": 9,
     "metadata": {},
     "output_type": "execute_result"
    }
   ],
   "source": [
    "Molecules = [\"DNA\", \"RNA\"]\n",
    "Molecules"
   ]
  },
  {
   "cell_type": "code",
   "execution_count": 10,
   "id": "099c304f",
   "metadata": {},
   "outputs": [
    {
     "data": {
      "text/plain": [
       "['DNA', 'RNA', 'Amino acid']"
      ]
     },
     "execution_count": 10,
     "metadata": {},
     "output_type": "execute_result"
    }
   ],
   "source": [
    "Molecules.append(\"Amino acid\") # will add the new item at the end of a list \n",
    "Molecules"
   ]
  },
  {
   "cell_type": "markdown",
   "id": "1831705f",
   "metadata": {},
   "source": [
    "2 **.count()**: Python list method searches a list for whatever search term it receives as an argument, then returns the number of matching entries found."
   ]
  },
  {
   "cell_type": "code",
   "execution_count": 37,
   "id": "6948eda6",
   "metadata": {},
   "outputs": [
    {
     "data": {
      "text/plain": [
       "5"
      ]
     },
     "execution_count": 37,
     "metadata": {},
     "output_type": "execute_result"
    }
   ],
   "source": [
    "Molecules = ['AGCT', 'AGCT', 'AGCT', 'AGCT', 'AGCT']\n",
    "Molecules.count(\"AGCT\")"
   ]
  },
  {
   "cell_type": "code",
   "execution_count": 54,
   "id": "ad96fefe",
   "metadata": {},
   "outputs": [
    {
     "data": {
      "text/plain": [
       "['AGCTAGCTAGCT']"
      ]
     },
     "execution_count": 54,
     "metadata": {},
     "output_type": "execute_result"
    }
   ],
   "source": [
    "Molecules = [\"AGCTAGCTAGCT\"]\n",
    "Molecules"
   ]
  },
  {
   "cell_type": "code",
   "execution_count": 55,
   "id": "6df005ff",
   "metadata": {},
   "outputs": [
    {
     "name": "stdout",
     "output_type": "stream",
     "text": [
      "1\n"
     ]
    }
   ],
   "source": [
    "print(Molecules.count('AGCTAGCTAGCT'))"
   ]
  },
  {
   "cell_type": "code",
   "execution_count": 36,
   "id": "0b6f2a4f",
   "metadata": {},
   "outputs": [
    {
     "name": "stdout",
     "output_type": "stream",
     "text": [
      "8\n"
     ]
    }
   ],
   "source": [
    "Molecules = \"AGCTAGCT\" # without list\n",
    "print(len(Molecules)) # count single string lenght"
   ]
  },
  {
   "cell_type": "markdown",
   "id": "adf1ba90",
   "metadata": {},
   "source": [
    "3.The Python `len()` function can be used to determine the number of items found in the list it accepts as an argument."
   ]
  },
  {
   "cell_type": "code",
   "execution_count": 52,
   "id": "a3499666",
   "metadata": {},
   "outputs": [
    {
     "data": {
      "text/plain": [
       "['DNA', 'RNA', 'Amino acid', 'Vitamin', 'DNA', 'RNA', 'Amino acid', 'Vitamin']"
      ]
     },
     "execution_count": 52,
     "metadata": {},
     "output_type": "execute_result"
    }
   ],
   "source": [
    "mol = ['DNA', 'RNA', 'Amino acid', 'Vitamin','DNA', 'RNA', 'Amino acid', 'Vitamin']\n",
    "mol"
   ]
  },
  {
   "cell_type": "code",
   "execution_count": 53,
   "id": "d1aa4034",
   "metadata": {},
   "outputs": [
    {
     "data": {
      "text/plain": [
       "8"
      ]
     },
     "execution_count": 53,
     "metadata": {},
     "output_type": "execute_result"
    }
   ],
   "source": [
    "len(mol)"
   ]
  },
  {
   "cell_type": "markdown",
   "id": "af789443",
   "metadata": {},
   "source": [
    "4.The `.sort()` and `reverse()` Python list method will sort the contents of whatever list it is called on. Numerical lists will be sorted in ascending order, and lists of Strings will be sorted into alphabetical order. It modifies the original list, and has no return value. "
   ]
  },
  {
   "cell_type": "code",
   "execution_count": 57,
   "id": "6267d3dd",
   "metadata": {},
   "outputs": [
    {
     "name": "stdout",
     "output_type": "stream",
     "text": [
      "[1, 2, 3, 4, 5, 6, 7, 8, 9]\n"
     ]
    }
   ],
   "source": [
    "sort_lsit = [9,8,7,6,5,4,3,2,1]\n",
    "sort_lsit.sort() # will not does not return anything\n",
    "\n",
    "print(sort_lsit)"
   ]
  },
  {
   "cell_type": "code",
   "execution_count": 111,
   "id": "f6383baa",
   "metadata": {},
   "outputs": [
    {
     "data": {
      "text/plain": [
       "[9, 8, 7, 6, 5, 4, 3, 2, 1]"
      ]
     },
     "execution_count": 111,
     "metadata": {},
     "output_type": "execute_result"
    }
   ],
   "source": [
    "sort_lsit.sort(reverse=True) # will reverse the list items\n",
    "sort_lsit"
   ]
  },
  {
   "cell_type": "code",
   "execution_count": 113,
   "id": "8f536e5d",
   "metadata": {},
   "outputs": [
    {
     "name": "stdout",
     "output_type": "stream",
     "text": [
      "[1, 2, 3, 4, 5, 6, 7, 8, 9]\n"
     ]
    }
   ],
   "source": [
    "sort_lsit = sorted(sort_lsit) # will return the sorted list\n",
    "print(sort_lsit)"
   ]
  },
  {
   "cell_type": "code",
   "execution_count": 114,
   "id": "6bb249ad",
   "metadata": {},
   "outputs": [
    {
     "name": "stdout",
     "output_type": "stream",
     "text": [
      "1\n"
     ]
    }
   ],
   "source": [
    "print(min(sort_lsit)) # min() function"
   ]
  },
  {
   "cell_type": "code",
   "execution_count": 115,
   "id": "df3b977d",
   "metadata": {},
   "outputs": [
    {
     "name": "stdout",
     "output_type": "stream",
     "text": [
      "9\n"
     ]
    }
   ],
   "source": [
    "print(max(sort_lsit)) # max() function"
   ]
  },
  {
   "cell_type": "code",
   "execution_count": 116,
   "id": "e5f3030c",
   "metadata": {},
   "outputs": [
    {
     "name": "stdout",
     "output_type": "stream",
     "text": [
      "45\n"
     ]
    }
   ],
   "source": [
    "print(sum(sort_lsit)) # sum() function"
   ]
  },
  {
   "cell_type": "markdown",
   "id": "fc22a2b8",
   "metadata": {},
   "source": [
    "**Index Accessing in list**"
   ]
  },
  {
   "cell_type": "code",
   "execution_count": 60,
   "id": "cb9cd70d",
   "metadata": {},
   "outputs": [
    {
     "data": {
      "text/plain": [
       "'DNA'"
      ]
     },
     "execution_count": 60,
     "metadata": {},
     "output_type": "execute_result"
    }
   ],
   "source": [
    "Molecules = ['DNA', 'RNA', 'Amino acid', 'Vitamin']\n",
    "Molecules[0]"
   ]
  },
  {
   "cell_type": "code",
   "execution_count": 61,
   "id": "5cb637c6",
   "metadata": {},
   "outputs": [
    {
     "data": {
      "text/plain": [
       "'Vitamin'"
      ]
     },
     "execution_count": 61,
     "metadata": {},
     "output_type": "execute_result"
    }
   ],
   "source": [
    "Molecules[3]"
   ]
  },
  {
   "cell_type": "code",
   "execution_count": 62,
   "id": "4804cada",
   "metadata": {},
   "outputs": [
    {
     "data": {
      "text/plain": [
       "'Amino acid'"
      ]
     },
     "execution_count": 62,
     "metadata": {},
     "output_type": "execute_result"
    }
   ],
   "source": [
    "Molecules[2]"
   ]
  },
  {
   "cell_type": "code",
   "execution_count": 63,
   "id": "c24c5d88",
   "metadata": {},
   "outputs": [
    {
     "data": {
      "text/plain": [
       "'RNA'"
      ]
     },
     "execution_count": 63,
     "metadata": {},
     "output_type": "execute_result"
    }
   ],
   "source": [
    "Molecules[1]"
   ]
  },
  {
   "cell_type": "code",
   "execution_count": 64,
   "id": "7fd7dd8c",
   "metadata": {},
   "outputs": [
    {
     "data": {
      "text/plain": [
       "['DNA', 'RNA']"
      ]
     },
     "execution_count": 64,
     "metadata": {},
     "output_type": "execute_result"
    }
   ],
   "source": [
    "Molecules[0:2]"
   ]
  },
  {
   "cell_type": "code",
   "execution_count": 93,
   "id": "aa8496a8",
   "metadata": {},
   "outputs": [
    {
     "data": {
      "text/plain": [
       "['DNA', 'RNA']"
      ]
     },
     "execution_count": 93,
     "metadata": {},
     "output_type": "execute_result"
    }
   ],
   "source": [
    "Molecules[:2]"
   ]
  },
  {
   "cell_type": "code",
   "execution_count": 65,
   "id": "be7d44f4",
   "metadata": {},
   "outputs": [
    {
     "data": {
      "text/plain": [
       "['DNA', 'RNA', 'Amino acid', 'Vitamin']"
      ]
     },
     "execution_count": 65,
     "metadata": {},
     "output_type": "execute_result"
    }
   ],
   "source": [
    "Molecules[0:4]"
   ]
  },
  {
   "cell_type": "code",
   "execution_count": 66,
   "id": "f8b9d348",
   "metadata": {},
   "outputs": [
    {
     "data": {
      "text/plain": [
       "['DNA', 'RNA', 'Amino acid']"
      ]
     },
     "execution_count": 66,
     "metadata": {},
     "output_type": "execute_result"
    }
   ],
   "source": [
    "Molecules[0:3]"
   ]
  },
  {
   "cell_type": "code",
   "execution_count": 67,
   "id": "58928d41",
   "metadata": {},
   "outputs": [
    {
     "data": {
      "text/plain": [
       "'Vitamin'"
      ]
     },
     "execution_count": 67,
     "metadata": {},
     "output_type": "execute_result"
    }
   ],
   "source": [
    "Molecules[-1]"
   ]
  },
  {
   "cell_type": "markdown",
   "id": "71e31c51",
   "metadata": {},
   "source": [
    "5.**insert()** Function"
   ]
  },
  {
   "cell_type": "code",
   "execution_count": 79,
   "id": "7ae82b04",
   "metadata": {},
   "outputs": [
    {
     "data": {
      "text/plain": [
       "['RNA', 'DNA', 'Carbo', 'Amino acid']"
      ]
     },
     "execution_count": 79,
     "metadata": {},
     "output_type": "execute_result"
    }
   ],
   "source": [
    "DNA = [\"RNA\", \"DNA\", \"Amino acid\"]\n",
    "DNA.insert(-1, \"Carbo\")\n",
    "DNA"
   ]
  },
  {
   "cell_type": "code",
   "execution_count": 80,
   "id": "8708215f",
   "metadata": {},
   "outputs": [
    {
     "data": {
      "text/plain": [
       "['RNA', 'Protein', 'DNA', 'Carbo', 'Amino acid']"
      ]
     },
     "execution_count": 80,
     "metadata": {},
     "output_type": "execute_result"
    }
   ],
   "source": [
    "DNA.insert(1, \"Protein\")\n",
    "DNA"
   ]
  },
  {
   "cell_type": "markdown",
   "id": "447d257a",
   "metadata": {},
   "source": [
    "6.**extend()** Function"
   ]
  },
  {
   "cell_type": "code",
   "execution_count": 98,
   "id": "5ceb37b9",
   "metadata": {},
   "outputs": [],
   "source": [
    "macro_mol = ['DNA', 'RNA', 'Amino acid']"
   ]
  },
  {
   "cell_type": "code",
   "execution_count": 97,
   "id": "d1ab7632",
   "metadata": {},
   "outputs": [],
   "source": [
    "micro_mol = ['Vitamin', 'Carbo']"
   ]
  },
  {
   "cell_type": "code",
   "execution_count": 100,
   "id": "3833e01d",
   "metadata": {},
   "outputs": [
    {
     "name": "stdout",
     "output_type": "stream",
     "text": [
      "['DNA', 'RNA', 'Amino acid', 'Vitamin', 'Carbo', 'Vitamin', 'Carbo']\n"
     ]
    }
   ],
   "source": [
    "macro_mol.extend(micro_mol) # will add only list items\n",
    "print(macro_mol)"
   ]
  },
  {
   "cell_type": "code",
   "execution_count": 101,
   "id": "5544acae",
   "metadata": {},
   "outputs": [
    {
     "name": "stdout",
     "output_type": "stream",
     "text": [
      "['DNA', 'RNA', 'Amino acid', 'Vitamin', 'Carbo', 'Vitamin', 'Carbo', ['Vitamin', 'Carbo']]\n"
     ]
    }
   ],
   "source": [
    "macro_mol.append(micro_mol) #  will add list itself\n",
    "print(macro_mol)"
   ]
  },
  {
   "cell_type": "code",
   "execution_count": null,
   "id": "7d175a52",
   "metadata": {},
   "outputs": [],
   "source": []
  },
  {
   "cell_type": "markdown",
   "id": "19c4599f",
   "metadata": {},
   "source": [
    "7.**Combining the list**"
   ]
  },
  {
   "cell_type": "code",
   "execution_count": 81,
   "id": "dd7f56ca",
   "metadata": {},
   "outputs": [
    {
     "data": {
      "text/plain": [
       "['DNA', 'RNA', 'Amino acid', 'Vitamin', 'Carbo']"
      ]
     },
     "execution_count": 81,
     "metadata": {},
     "output_type": "execute_result"
    }
   ],
   "source": [
    "macro = ['DNA', 'RNA', 'Amino acid']\n",
    "micro = ['Vitamin', 'Carbo']\n",
    "Bio_molecules = macro+micro\n",
    "Bio_molecules"
   ]
  },
  {
   "cell_type": "code",
   "execution_count": 82,
   "id": "3581e861",
   "metadata": {},
   "outputs": [
    {
     "data": {
      "text/plain": [
       "5"
      ]
     },
     "execution_count": 82,
     "metadata": {},
     "output_type": "execute_result"
    }
   ],
   "source": [
    "len(Bio_molecules)"
   ]
  },
  {
   "cell_type": "code",
   "execution_count": 84,
   "id": "16aa22c2",
   "metadata": {},
   "outputs": [
    {
     "data": {
      "text/plain": [
       "True"
      ]
     },
     "execution_count": 84,
     "metadata": {},
     "output_type": "execute_result"
    }
   ],
   "source": [
    "'DNA' in Bio_molecules"
   ]
  },
  {
   "cell_type": "code",
   "execution_count": 85,
   "id": "9dd3d56c",
   "metadata": {},
   "outputs": [
    {
     "data": {
      "text/plain": [
       "True"
      ]
     },
     "execution_count": 85,
     "metadata": {},
     "output_type": "execute_result"
    }
   ],
   "source": [
    "\"RNA\" in Bio_molecules"
   ]
  },
  {
   "cell_type": "code",
   "execution_count": 86,
   "id": "aef02d0f",
   "metadata": {},
   "outputs": [
    {
     "data": {
      "text/plain": [
       "False"
      ]
     },
     "execution_count": 86,
     "metadata": {},
     "output_type": "execute_result"
    }
   ],
   "source": [
    "\"Amino\" in Bio_molecules"
   ]
  },
  {
   "cell_type": "code",
   "execution_count": 87,
   "id": "2e34eb72",
   "metadata": {},
   "outputs": [
    {
     "data": {
      "text/plain": [
       "True"
      ]
     },
     "execution_count": 87,
     "metadata": {},
     "output_type": "execute_result"
    }
   ],
   "source": [
    "\"Amino acid\" in Bio_molecules"
   ]
  },
  {
   "cell_type": "markdown",
   "id": "0e045d08",
   "metadata": {},
   "source": [
    "8.**remove()** and **pop()** functions"
   ]
  },
  {
   "cell_type": "code",
   "execution_count": 103,
   "id": "598b7b17",
   "metadata": {},
   "outputs": [
    {
     "data": {
      "text/plain": [
       "['DNA', 'RNA', 'Amino acid', 'Vitamin', 'Carbo']"
      ]
     },
     "execution_count": 103,
     "metadata": {},
     "output_type": "execute_result"
    }
   ],
   "source": [
    "Bio_molecules"
   ]
  },
  {
   "cell_type": "code",
   "execution_count": 104,
   "id": "c9973cb4",
   "metadata": {},
   "outputs": [],
   "source": [
    "Bio_molecules.remove(\"Carbo\") # will remove the specific item from the list"
   ]
  },
  {
   "cell_type": "code",
   "execution_count": 105,
   "id": "fff2ee8b",
   "metadata": {},
   "outputs": [
    {
     "data": {
      "text/plain": [
       "['DNA', 'RNA', 'Amino acid', 'Vitamin']"
      ]
     },
     "execution_count": 105,
     "metadata": {},
     "output_type": "execute_result"
    }
   ],
   "source": [
    "Bio_molecules"
   ]
  },
  {
   "cell_type": "code",
   "execution_count": 106,
   "id": "d8349c0f",
   "metadata": {},
   "outputs": [
    {
     "data": {
      "text/plain": [
       "'Vitamin'"
      ]
     },
     "execution_count": 106,
     "metadata": {},
     "output_type": "execute_result"
    }
   ],
   "source": [
    "Bio_molecules.pop() # will remove the last item from the list"
   ]
  },
  {
   "cell_type": "code",
   "execution_count": 107,
   "id": "cdcbefc2",
   "metadata": {},
   "outputs": [
    {
     "data": {
      "text/plain": [
       "['DNA', 'RNA', 'Amino acid']"
      ]
     },
     "execution_count": 107,
     "metadata": {},
     "output_type": "execute_result"
    }
   ],
   "source": [
    "Bio_molecules"
   ]
  },
  {
   "cell_type": "code",
   "execution_count": 108,
   "id": "7716e124",
   "metadata": {},
   "outputs": [
    {
     "data": {
      "text/plain": [
       "'Amino acid'"
      ]
     },
     "execution_count": 108,
     "metadata": {},
     "output_type": "execute_result"
    }
   ],
   "source": [
    "poped  = Bio_molecules.pop() \n",
    "poped"
   ]
  },
  {
   "cell_type": "code",
   "execution_count": 1,
   "id": "b31c434c",
   "metadata": {},
   "outputs": [
    {
     "name": "stdout",
     "output_type": "stream",
     "text": [
      "History\n",
      "Math\n",
      "Physics\n",
      "CompSci\n"
     ]
    }
   ],
   "source": [
    "courses = ['History', 'Math', 'Physics', 'CompSci']\n",
    "\n",
    "for course in courses:\n",
    "    print(course)"
   ]
  },
  {
   "cell_type": "code",
   "execution_count": 4,
   "id": "dc5a6488",
   "metadata": {},
   "outputs": [
    {
     "name": "stdout",
     "output_type": "stream",
     "text": [
      "0 History\n",
      "1 Math\n",
      "2 Physics\n",
      "3 CompSci\n"
     ]
    }
   ],
   "source": [
    "for index, course in enumerate(courses): # will printout index with each items\n",
    "    print(index,course)"
   ]
  },
  {
   "cell_type": "code",
   "execution_count": 5,
   "id": "15c80bf0",
   "metadata": {},
   "outputs": [
    {
     "name": "stdout",
     "output_type": "stream",
     "text": [
      "1 History\n",
      "2 Math\n",
      "3 Physics\n",
      "4 CompSci\n"
     ]
    }
   ],
   "source": [
    " for index, course in enumerate(courses, start=1): # will start from index 1.\n",
    "        print(index, course)"
   ]
  },
  {
   "cell_type": "code",
   "execution_count": 6,
   "id": "01d84d18",
   "metadata": {},
   "outputs": [
    {
     "name": "stdout",
     "output_type": "stream",
     "text": [
      "History, Math, Physics, CompSci\n"
     ]
    }
   ],
   "source": [
    "course_str = ', '.join(courses) \n",
    "print(course_str) # will print each items with (,)."
   ]
  },
  {
   "cell_type": "code",
   "execution_count": 12,
   "id": "7f489622",
   "metadata": {},
   "outputs": [
    {
     "name": "stdout",
     "output_type": "stream",
     "text": [
      "History-Math-Physics-CompSci\n"
     ]
    }
   ],
   "source": [
    "course_str = '-'.join(courses)\n",
    "print(course_str) # will print each items with (-)."
   ]
  }
 ],
 "metadata": {
  "kernelspec": {
   "display_name": "Python 3 (ipykernel)",
   "language": "python",
   "name": "python3"
  },
  "language_info": {
   "codemirror_mode": {
    "name": "ipython",
    "version": 3
   },
   "file_extension": ".py",
   "mimetype": "text/x-python",
   "name": "python",
   "nbconvert_exporter": "python",
   "pygments_lexer": "ipython3",
   "version": "3.9.7"
  }
 },
 "nbformat": 4,
 "nbformat_minor": 5
}
