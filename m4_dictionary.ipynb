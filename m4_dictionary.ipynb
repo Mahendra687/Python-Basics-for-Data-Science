{
 "cells": [
  {
   "cell_type": "markdown",
   "id": "b2593d26",
   "metadata": {},
   "source": [
    "**Dictionary in Python**\n",
    "\n",
    "* Dictionary is an unordered collection of key-value pairs.\n",
    "* Real word dictionaries are a good analogy to understand them: they contain a list of items(words), each item has a key(the word) and a value(the word’s meaning).\n",
    "* It generally is used when we have a huge amount of data.\n",
    "* It is defined within braces with each item being in the form of key:"
   ]
  },
  {
   "cell_type": "code",
   "execution_count": 2,
   "id": "df406dc4",
   "metadata": {},
   "outputs": [],
   "source": [
    "Dict = {\n",
    "    \"name\":\"Ram\",\n",
    "    \"wife\":\"Sita\",\n",
    "    \"bhajan\":\"sita ram sita ram\"\n",
    "}"
   ]
  },
  {
   "cell_type": "code",
   "execution_count": 3,
   "id": "99cc167b",
   "metadata": {},
   "outputs": [
    {
     "name": "stdout",
     "output_type": "stream",
     "text": [
      "{'name': 'Ram', 'wife': 'Sita', 'bhajan': 'sita ram sita ram'}\n"
     ]
    }
   ],
   "source": [
    "print(Dict)"
   ]
  },
  {
   "cell_type": "markdown",
   "id": "f2304312",
   "metadata": {},
   "source": [
    "* The keys in a dictionary must always be **unique and immutable**. This is the reason dictionary keys can be String but not List.\n",
    "\n",
    "* On the other hand, Values in a dictionary can be of any datatype and can be duplicated\n",
    "\n",
    "* Dictionary keys are case sensitive, same name but different cases of Key will be treated distinctly.\n",
    "\n",
    "* Example:"
   ]
  },
  {
   "cell_type": "code",
   "execution_count": 4,
   "id": "1984ff17",
   "metadata": {},
   "outputs": [
    {
     "data": {
      "text/plain": [
       "{1: 'Blue', 2: 'Green', 3: 'Yellow'}"
      ]
     },
     "execution_count": 4,
     "metadata": {},
     "output_type": "execute_result"
    }
   ],
   "source": [
    "my_dict = {1:\"Blue\", 2:\"Green\",3:\"Yellow\" }\n",
    "my_dict"
   ]
  }
 ],
 "metadata": {
  "kernelspec": {
   "display_name": "Python 3 (ipykernel)",
   "language": "python",
   "name": "python3"
  },
  "language_info": {
   "codemirror_mode": {
    "name": "ipython",
    "version": 3
   },
   "file_extension": ".py",
   "mimetype": "text/x-python",
   "name": "python",
   "nbconvert_exporter": "python",
   "pygments_lexer": "ipython3",
   "version": "3.9.7"
  }
 },
 "nbformat": 4,
 "nbformat_minor": 5
}
